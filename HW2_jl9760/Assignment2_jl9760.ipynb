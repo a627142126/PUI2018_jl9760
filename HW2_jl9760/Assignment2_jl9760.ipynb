{
 "cells": [
  {
   "cell_type": "code",
   "execution_count": 35,
   "metadata": {},
   "outputs": [],
   "source": [
    "# example of gathering, reading, and plotting data\n",
    "# developed by FBB for PUI in 2018\n",
    "# uses NYC data portal NYC OPEN DATA https://data.cityofnewyork.us/"
   ]
  },
  {
   "cell_type": "code",
   "execution_count": 36,
   "metadata": {},
   "outputs": [],
   "source": [
    "from __future__ import print_function #for compatibility beteen python2 and python3\n",
    "\n",
    "# all other needed modules will be imported as they are needed. \n",
    "# I will leave them in the cell where they become relevant BUT  \n",
    "# PEP8 standards require to move them at the top cell, \n",
    "# so you must move your imports in this cell for the homework"
   ]
  },
  {
   "cell_type": "markdown",
   "metadata": {},
   "source": [
    "# Find data on the portal"
   ]
  },
  {
   "cell_type": "markdown",
   "metadata": {},
   "source": [
    " using DHS data on shelter population\n",
    " obtained with the following steps from the website \n",
    " \n",
    " https://opendata.cityofnewyork.us/ -> Data \n",
    " \n",
    " https://opendata.cityofnewyork.us/data/ -> Department of Homeless Services (DHS) (in data by agency)\n",
    " \n",
    " https://data.cityofnewyork.us/browse?Dataset-Information_Agency=Department+of+Homeless+Services+%28DHS%29\n",
    " -> DHS daily report\n",
    " \n",
    " https://data.cityofnewyork.us/Social-Services/DHS-Daily-Report/k46n-sa2m -> View Data \n",
    " \n",
    " https://data.cityofnewyork.us/Social-Services/DHS-Daily-Report/k46n-sa2m/data -> Export\n",
    " \n",
    " this gives me various links. I copy and paste below the CSV link"
   ]
  },
  {
   "cell_type": "markdown",
   "metadata": {},
   "source": [
    "# solution 1: download from the portal \n"
   ]
  },
  {
   "cell_type": "code",
   "execution_count": 54,
   "metadata": {},
   "outputs": [
    {
     "name": "stdout",
     "output_type": "stream",
     "text": [
      "  % Total    % Received % Xferd  Average Speed   Time    Time     Time  Current\n",
      "                                 Dload  Upload   Total   Spent    Left  Speed\n",
      "100  201k    0  201k    0     0   540k      0 --:--:-- --:--:-- --:--:--  541k\n"
     ]
    }
   ],
   "source": [
    "!curl https://data.cityofnewyork.us/resource/utt9-dvgj.csv > gt.csv"
   ]
  },
  {
   "cell_type": "code",
   "execution_count": 55,
   "metadata": {},
   "outputs": [
    {
     "name": "stdout",
     "output_type": "stream",
     "text": [
      "PUIdata /nfshome/jl9760/PUIdata\n"
     ]
    }
   ],
   "source": [
    "# ove the downloaded data to PUI data\n",
    "import os\n",
    "print(\"PUIdata\", os.getenv(\"PUIDATA\"))"
   ]
  },
  {
   "cell_type": "code",
   "execution_count": 56,
   "metadata": {},
   "outputs": [
    {
     "name": "stdout",
     "output_type": "stream",
     "text": [
      "PUIdata /nfshome/jl9760/PUIdata\n"
     ]
    }
   ],
   "source": [
    "#create the env variable if missing\n",
    "os.environ[\"PUIDATA\"] = \"%s/PUIdata\"%os.getenv(\"HOME\")\n",
    "\n",
    "print(\"PUIdata\", os.getenv(\"PUIDATA\"))"
   ]
  },
  {
   "cell_type": "code",
   "execution_count": 57,
   "metadata": {},
   "outputs": [],
   "source": [
    "# move the data\n",
    "!mv gt.csv $PUIDATA"
   ]
  },
  {
   "cell_type": "code",
   "execution_count": 58,
   "metadata": {},
   "outputs": [
    {
     "name": "stdout",
     "output_type": "stream",
     "text": [
      "gt.csv\tjl9760.csv  pp.csv  saes.csv  service_request.csv\r\n"
     ]
    }
   ],
   "source": [
    "#test if the data is there\n",
    "!ls $PUIDATA"
   ]
  },
  {
   "cell_type": "markdown",
   "metadata": {},
   "source": [
    "## read in the data with pandas"
   ]
  },
  {
   "cell_type": "code",
   "execution_count": 59,
   "metadata": {},
   "outputs": [],
   "source": [
    "#read in the data with pandas\n",
    "import pandas as pd\n",
    "gt = pd.read_csv(\"%s/gt.csv\"%os.getenv(\"PUIDATA\"))"
   ]
  },
  {
   "cell_type": "code",
   "execution_count": 60,
   "metadata": {},
   "outputs": [
    {
     "data": {
      "text/html": [
       "<div>\n",
       "<table border=\"1\" class=\"dataframe\">\n",
       "  <thead>\n",
       "    <tr style=\"text-align: right;\">\n",
       "      <th></th>\n",
       "      <th>dropoff_latitude</th>\n",
       "      <th>dropoff_longitude</th>\n",
       "      <th>ehail_fee</th>\n",
       "      <th>extra</th>\n",
       "      <th>fare_amount</th>\n",
       "      <th>improvement_surcharge</th>\n",
       "      <th>lpep_dropoff_datetime</th>\n",
       "      <th>lpep_pickup_datetime</th>\n",
       "      <th>mta_tax</th>\n",
       "      <th>passenger_count</th>\n",
       "      <th>...</th>\n",
       "      <th>pickup_latitude</th>\n",
       "      <th>pickup_longitude</th>\n",
       "      <th>ratecodeid</th>\n",
       "      <th>store_and_fwd_flag</th>\n",
       "      <th>tip_amount</th>\n",
       "      <th>tolls_amount</th>\n",
       "      <th>total_amount</th>\n",
       "      <th>trip_distance</th>\n",
       "      <th>trip_type</th>\n",
       "      <th>vendorid</th>\n",
       "    </tr>\n",
       "  </thead>\n",
       "  <tbody>\n",
       "    <tr>\n",
       "      <th>0</th>\n",
       "      <td>40.645348</td>\n",
       "      <td>-73.776329</td>\n",
       "      <td>NaN</td>\n",
       "      <td>0.0</td>\n",
       "      <td>19.0</td>\n",
       "      <td>0.3</td>\n",
       "      <td>2015-02-10T08:59:50.000</td>\n",
       "      <td>2015-02-10T08:46:15.000</td>\n",
       "      <td>0.5</td>\n",
       "      <td>1</td>\n",
       "      <td>...</td>\n",
       "      <td>40.693958</td>\n",
       "      <td>-73.828262</td>\n",
       "      <td>1</td>\n",
       "      <td>N</td>\n",
       "      <td>4.75</td>\n",
       "      <td>0.0</td>\n",
       "      <td>24.55</td>\n",
       "      <td>5.95</td>\n",
       "      <td>1</td>\n",
       "      <td>2</td>\n",
       "    </tr>\n",
       "    <tr>\n",
       "      <th>1</th>\n",
       "      <td>40.679829</td>\n",
       "      <td>-73.998367</td>\n",
       "      <td>NaN</td>\n",
       "      <td>0.0</td>\n",
       "      <td>7.5</td>\n",
       "      <td>0.3</td>\n",
       "      <td>2015-01-09T15:54:32.000</td>\n",
       "      <td>2015-01-09T15:45:22.000</td>\n",
       "      <td>0.5</td>\n",
       "      <td>3</td>\n",
       "      <td>...</td>\n",
       "      <td>40.669933</td>\n",
       "      <td>-73.985672</td>\n",
       "      <td>1</td>\n",
       "      <td>N</td>\n",
       "      <td>1.50</td>\n",
       "      <td>0.0</td>\n",
       "      <td>9.80</td>\n",
       "      <td>1.15</td>\n",
       "      <td>1</td>\n",
       "      <td>2</td>\n",
       "    </tr>\n",
       "    <tr>\n",
       "      <th>2</th>\n",
       "      <td>40.736202</td>\n",
       "      <td>-73.909294</td>\n",
       "      <td>NaN</td>\n",
       "      <td>0.5</td>\n",
       "      <td>7.5</td>\n",
       "      <td>0.3</td>\n",
       "      <td>2015-01-16T22:14:25.000</td>\n",
       "      <td>2015-01-16T22:07:38.000</td>\n",
       "      <td>0.5</td>\n",
       "      <td>1</td>\n",
       "      <td>...</td>\n",
       "      <td>40.746658</td>\n",
       "      <td>-73.892570</td>\n",
       "      <td>1</td>\n",
       "      <td>N</td>\n",
       "      <td>0.00</td>\n",
       "      <td>0.0</td>\n",
       "      <td>8.80</td>\n",
       "      <td>1.74</td>\n",
       "      <td>1</td>\n",
       "      <td>2</td>\n",
       "    </tr>\n",
       "    <tr>\n",
       "      <th>3</th>\n",
       "      <td>40.710945</td>\n",
       "      <td>-73.957848</td>\n",
       "      <td>NaN</td>\n",
       "      <td>0.5</td>\n",
       "      <td>5.0</td>\n",
       "      <td>0.3</td>\n",
       "      <td>2015-02-11T20:16:39.000</td>\n",
       "      <td>2015-02-11T20:12:29.000</td>\n",
       "      <td>0.5</td>\n",
       "      <td>1</td>\n",
       "      <td>...</td>\n",
       "      <td>40.714123</td>\n",
       "      <td>-73.952034</td>\n",
       "      <td>1</td>\n",
       "      <td>N</td>\n",
       "      <td>0.00</td>\n",
       "      <td>0.0</td>\n",
       "      <td>6.30</td>\n",
       "      <td>0.50</td>\n",
       "      <td>1</td>\n",
       "      <td>2</td>\n",
       "    </tr>\n",
       "    <tr>\n",
       "      <th>4</th>\n",
       "      <td>40.755722</td>\n",
       "      <td>-73.912811</td>\n",
       "      <td>NaN</td>\n",
       "      <td>0.0</td>\n",
       "      <td>11.0</td>\n",
       "      <td>0.3</td>\n",
       "      <td>2015-02-26T10:57:30.000</td>\n",
       "      <td>2015-02-26T10:42:27.000</td>\n",
       "      <td>0.5</td>\n",
       "      <td>2</td>\n",
       "      <td>...</td>\n",
       "      <td>40.750774</td>\n",
       "      <td>-73.894104</td>\n",
       "      <td>1</td>\n",
       "      <td>N</td>\n",
       "      <td>0.00</td>\n",
       "      <td>0.0</td>\n",
       "      <td>11.80</td>\n",
       "      <td>1.80</td>\n",
       "      <td>1</td>\n",
       "      <td>2</td>\n",
       "    </tr>\n",
       "    <tr>\n",
       "      <th>5</th>\n",
       "      <td>40.749153</td>\n",
       "      <td>-73.915642</td>\n",
       "      <td>NaN</td>\n",
       "      <td>1.0</td>\n",
       "      <td>8.5</td>\n",
       "      <td>0.3</td>\n",
       "      <td>2015-02-02T18:58:08.000</td>\n",
       "      <td>2015-02-02T18:46:40.000</td>\n",
       "      <td>0.5</td>\n",
       "      <td>1</td>\n",
       "      <td>...</td>\n",
       "      <td>40.761700</td>\n",
       "      <td>-73.925423</td>\n",
       "      <td>1</td>\n",
       "      <td>N</td>\n",
       "      <td>0.00</td>\n",
       "      <td>0.0</td>\n",
       "      <td>10.30</td>\n",
       "      <td>1.30</td>\n",
       "      <td>1</td>\n",
       "      <td>1</td>\n",
       "    </tr>\n",
       "    <tr>\n",
       "      <th>6</th>\n",
       "      <td>40.651379</td>\n",
       "      <td>-73.918312</td>\n",
       "      <td>NaN</td>\n",
       "      <td>0.5</td>\n",
       "      <td>17.0</td>\n",
       "      <td>0.3</td>\n",
       "      <td>2015-02-17T05:34:04.000</td>\n",
       "      <td>2015-02-17T05:04:16.000</td>\n",
       "      <td>0.5</td>\n",
       "      <td>1</td>\n",
       "      <td>...</td>\n",
       "      <td>40.692600</td>\n",
       "      <td>-73.927223</td>\n",
       "      <td>1</td>\n",
       "      <td>N</td>\n",
       "      <td>0.00</td>\n",
       "      <td>0.0</td>\n",
       "      <td>18.30</td>\n",
       "      <td>3.47</td>\n",
       "      <td>1</td>\n",
       "      <td>2</td>\n",
       "    </tr>\n",
       "    <tr>\n",
       "      <th>7</th>\n",
       "      <td>40.806557</td>\n",
       "      <td>-73.960869</td>\n",
       "      <td>NaN</td>\n",
       "      <td>0.0</td>\n",
       "      <td>6.5</td>\n",
       "      <td>0.3</td>\n",
       "      <td>2015-01-05T13:04:51.000</td>\n",
       "      <td>2015-01-05T12:58:10.000</td>\n",
       "      <td>0.5</td>\n",
       "      <td>1</td>\n",
       "      <td>...</td>\n",
       "      <td>40.807327</td>\n",
       "      <td>-73.944420</td>\n",
       "      <td>1</td>\n",
       "      <td>N</td>\n",
       "      <td>0.00</td>\n",
       "      <td>0.0</td>\n",
       "      <td>7.30</td>\n",
       "      <td>1.29</td>\n",
       "      <td>1</td>\n",
       "      <td>2</td>\n",
       "    </tr>\n",
       "  </tbody>\n",
       "</table>\n",
       "<p>8 rows × 21 columns</p>\n",
       "</div>"
      ],
      "text/plain": [
       "   dropoff_latitude  dropoff_longitude  ehail_fee  extra  fare_amount  \\\n",
       "0         40.645348         -73.776329        NaN    0.0         19.0   \n",
       "1         40.679829         -73.998367        NaN    0.0          7.5   \n",
       "2         40.736202         -73.909294        NaN    0.5          7.5   \n",
       "3         40.710945         -73.957848        NaN    0.5          5.0   \n",
       "4         40.755722         -73.912811        NaN    0.0         11.0   \n",
       "5         40.749153         -73.915642        NaN    1.0          8.5   \n",
       "6         40.651379         -73.918312        NaN    0.5         17.0   \n",
       "7         40.806557         -73.960869        NaN    0.0          6.5   \n",
       "\n",
       "   improvement_surcharge    lpep_dropoff_datetime     lpep_pickup_datetime  \\\n",
       "0                    0.3  2015-02-10T08:59:50.000  2015-02-10T08:46:15.000   \n",
       "1                    0.3  2015-01-09T15:54:32.000  2015-01-09T15:45:22.000   \n",
       "2                    0.3  2015-01-16T22:14:25.000  2015-01-16T22:07:38.000   \n",
       "3                    0.3  2015-02-11T20:16:39.000  2015-02-11T20:12:29.000   \n",
       "4                    0.3  2015-02-26T10:57:30.000  2015-02-26T10:42:27.000   \n",
       "5                    0.3  2015-02-02T18:58:08.000  2015-02-02T18:46:40.000   \n",
       "6                    0.3  2015-02-17T05:34:04.000  2015-02-17T05:04:16.000   \n",
       "7                    0.3  2015-01-05T13:04:51.000  2015-01-05T12:58:10.000   \n",
       "\n",
       "   mta_tax  passenger_count    ...     pickup_latitude  pickup_longitude  \\\n",
       "0      0.5                1    ...           40.693958        -73.828262   \n",
       "1      0.5                3    ...           40.669933        -73.985672   \n",
       "2      0.5                1    ...           40.746658        -73.892570   \n",
       "3      0.5                1    ...           40.714123        -73.952034   \n",
       "4      0.5                2    ...           40.750774        -73.894104   \n",
       "5      0.5                1    ...           40.761700        -73.925423   \n",
       "6      0.5                1    ...           40.692600        -73.927223   \n",
       "7      0.5                1    ...           40.807327        -73.944420   \n",
       "\n",
       "   ratecodeid  store_and_fwd_flag tip_amount  tolls_amount  total_amount  \\\n",
       "0           1                   N       4.75           0.0         24.55   \n",
       "1           1                   N       1.50           0.0          9.80   \n",
       "2           1                   N       0.00           0.0          8.80   \n",
       "3           1                   N       0.00           0.0          6.30   \n",
       "4           1                   N       0.00           0.0         11.80   \n",
       "5           1                   N       0.00           0.0         10.30   \n",
       "6           1                   N       0.00           0.0         18.30   \n",
       "7           1                   N       0.00           0.0          7.30   \n",
       "\n",
       "   trip_distance  trip_type  vendorid  \n",
       "0           5.95          1         2  \n",
       "1           1.15          1         2  \n",
       "2           1.74          1         2  \n",
       "3           0.50          1         2  \n",
       "4           1.80          1         2  \n",
       "5           1.30          1         1  \n",
       "6           3.47          1         2  \n",
       "7           1.29          1         2  \n",
       "\n",
       "[8 rows x 21 columns]"
      ]
     },
     "execution_count": 60,
     "metadata": {},
     "output_type": "execute_result"
    }
   ],
   "source": [
    "#print the fist 8 lines out\n",
    "gt.head(8)"
   ]
  },
  {
   "cell_type": "code",
   "execution_count": 61,
   "metadata": {},
   "outputs": [
    {
     "data": {
      "text/html": [
       "<div>\n",
       "<table border=\"1\" class=\"dataframe\">\n",
       "  <thead>\n",
       "    <tr style=\"text-align: right;\">\n",
       "      <th></th>\n",
       "      <th>dropoff_latitude</th>\n",
       "      <th>dropoff_longitude</th>\n",
       "      <th>ehail_fee</th>\n",
       "      <th>extra</th>\n",
       "      <th>fare_amount</th>\n",
       "      <th>improvement_surcharge</th>\n",
       "      <th>lpep_dropoff_datetime</th>\n",
       "      <th>lpep_pickup_datetime</th>\n",
       "      <th>mta_tax</th>\n",
       "      <th>passenger_count</th>\n",
       "      <th>...</th>\n",
       "      <th>pickup_latitude</th>\n",
       "      <th>pickup_longitude</th>\n",
       "      <th>ratecodeid</th>\n",
       "      <th>store_and_fwd_flag</th>\n",
       "      <th>tip_amount</th>\n",
       "      <th>tolls_amount</th>\n",
       "      <th>total_amount</th>\n",
       "      <th>trip_distance</th>\n",
       "      <th>trip_type</th>\n",
       "      <th>vendorid</th>\n",
       "    </tr>\n",
       "  </thead>\n",
       "  <tbody>\n",
       "    <tr>\n",
       "      <th>997</th>\n",
       "      <td>40.695221</td>\n",
       "      <td>-73.924805</td>\n",
       "      <td>NaN</td>\n",
       "      <td>0.5</td>\n",
       "      <td>19.5</td>\n",
       "      <td>0.3</td>\n",
       "      <td>2015-02-24T23:57:28.000</td>\n",
       "      <td>2015-02-24T23:31:21.000</td>\n",
       "      <td>0.5</td>\n",
       "      <td>1</td>\n",
       "      <td>...</td>\n",
       "      <td>40.716774</td>\n",
       "      <td>-73.963318</td>\n",
       "      <td>1</td>\n",
       "      <td>N</td>\n",
       "      <td>6.24</td>\n",
       "      <td>0.0</td>\n",
       "      <td>27.04</td>\n",
       "      <td>4.73</td>\n",
       "      <td>1</td>\n",
       "      <td>2</td>\n",
       "    </tr>\n",
       "    <tr>\n",
       "      <th>998</th>\n",
       "      <td>40.810173</td>\n",
       "      <td>-73.952950</td>\n",
       "      <td>NaN</td>\n",
       "      <td>0.0</td>\n",
       "      <td>5.0</td>\n",
       "      <td>0.3</td>\n",
       "      <td>2015-02-14T18:55:26.000</td>\n",
       "      <td>2015-02-14T18:51:39.000</td>\n",
       "      <td>0.5</td>\n",
       "      <td>1</td>\n",
       "      <td>...</td>\n",
       "      <td>40.812725</td>\n",
       "      <td>-73.945656</td>\n",
       "      <td>1</td>\n",
       "      <td>N</td>\n",
       "      <td>0.00</td>\n",
       "      <td>0.0</td>\n",
       "      <td>5.80</td>\n",
       "      <td>0.65</td>\n",
       "      <td>1</td>\n",
       "      <td>2</td>\n",
       "    </tr>\n",
       "    <tr>\n",
       "      <th>999</th>\n",
       "      <td>40.768059</td>\n",
       "      <td>-73.876465</td>\n",
       "      <td>NaN</td>\n",
       "      <td>1.0</td>\n",
       "      <td>13.0</td>\n",
       "      <td>0.3</td>\n",
       "      <td>2015-02-24T18:48:21.000</td>\n",
       "      <td>2015-02-24T18:33:06.000</td>\n",
       "      <td>0.5</td>\n",
       "      <td>2</td>\n",
       "      <td>...</td>\n",
       "      <td>40.770275</td>\n",
       "      <td>-73.918098</td>\n",
       "      <td>1</td>\n",
       "      <td>N</td>\n",
       "      <td>0.00</td>\n",
       "      <td>0.0</td>\n",
       "      <td>14.80</td>\n",
       "      <td>3.12</td>\n",
       "      <td>1</td>\n",
       "      <td>2</td>\n",
       "    </tr>\n",
       "  </tbody>\n",
       "</table>\n",
       "<p>3 rows × 21 columns</p>\n",
       "</div>"
      ],
      "text/plain": [
       "     dropoff_latitude  dropoff_longitude  ehail_fee  extra  fare_amount  \\\n",
       "997         40.695221         -73.924805        NaN    0.5         19.5   \n",
       "998         40.810173         -73.952950        NaN    0.0          5.0   \n",
       "999         40.768059         -73.876465        NaN    1.0         13.0   \n",
       "\n",
       "     improvement_surcharge    lpep_dropoff_datetime     lpep_pickup_datetime  \\\n",
       "997                    0.3  2015-02-24T23:57:28.000  2015-02-24T23:31:21.000   \n",
       "998                    0.3  2015-02-14T18:55:26.000  2015-02-14T18:51:39.000   \n",
       "999                    0.3  2015-02-24T18:48:21.000  2015-02-24T18:33:06.000   \n",
       "\n",
       "     mta_tax  passenger_count    ...     pickup_latitude  pickup_longitude  \\\n",
       "997      0.5                1    ...           40.716774        -73.963318   \n",
       "998      0.5                1    ...           40.812725        -73.945656   \n",
       "999      0.5                2    ...           40.770275        -73.918098   \n",
       "\n",
       "     ratecodeid  store_and_fwd_flag tip_amount  tolls_amount  total_amount  \\\n",
       "997           1                   N       6.24           0.0         27.04   \n",
       "998           1                   N       0.00           0.0          5.80   \n",
       "999           1                   N       0.00           0.0         14.80   \n",
       "\n",
       "     trip_distance  trip_type  vendorid  \n",
       "997           4.73          1         2  \n",
       "998           0.65          1         2  \n",
       "999           3.12          1         2  \n",
       "\n",
       "[3 rows x 21 columns]"
      ]
     },
     "execution_count": 61,
     "metadata": {},
     "output_type": "execute_result"
    }
   ],
   "source": [
    "#print the last 3 lines out\n",
    "gt.tail(3)"
   ]
  },
  {
   "cell_type": "code",
   "execution_count": 62,
   "metadata": {},
   "outputs": [
    {
     "data": {
      "text/plain": [
       "Index(['dropoff_latitude', 'dropoff_longitude', 'ehail_fee', 'extra',\n",
       "       'fare_amount', 'improvement_surcharge', 'lpep_dropoff_datetime',\n",
       "       'lpep_pickup_datetime', 'mta_tax', 'passenger_count', 'payment_type',\n",
       "       'pickup_latitude', 'pickup_longitude', 'ratecodeid',\n",
       "       'store_and_fwd_flag', 'tip_amount', 'tolls_amount', 'total_amount',\n",
       "       'trip_distance', 'trip_type', 'vendorid'],\n",
       "      dtype='object')"
      ]
     },
     "execution_count": 62,
     "metadata": {},
     "output_type": "execute_result"
    }
   ],
   "source": [
    "#look at the columns available, those are the variables\n",
    "gt.columns"
   ]
  },
  {
   "cell_type": "code",
   "execution_count": 63,
   "metadata": {},
   "outputs": [
    {
     "data": {
      "text/plain": [
       "21000"
      ]
     },
     "execution_count": 63,
     "metadata": {},
     "output_type": "execute_result"
    }
   ],
   "source": [
    "#count how many rows, those are the data points\n",
    "gt.size"
   ]
  },
  {
   "cell_type": "code",
   "execution_count": 65,
   "metadata": {},
   "outputs": [],
   "source": [
    "#select 2 columns only for plotting\n",
    "gt_2c = gt[['fare_amount', 'tip_amount']]"
   ]
  },
  {
   "cell_type": "code",
   "execution_count": 66,
   "metadata": {},
   "outputs": [
    {
     "data": {
      "text/html": [
       "<div>\n",
       "<table border=\"1\" class=\"dataframe\">\n",
       "  <thead>\n",
       "    <tr style=\"text-align: right;\">\n",
       "      <th></th>\n",
       "      <th>fare_amount</th>\n",
       "      <th>tip_amount</th>\n",
       "    </tr>\n",
       "  </thead>\n",
       "  <tbody>\n",
       "    <tr>\n",
       "      <th>0</th>\n",
       "      <td>19.0</td>\n",
       "      <td>4.75</td>\n",
       "    </tr>\n",
       "    <tr>\n",
       "      <th>1</th>\n",
       "      <td>7.5</td>\n",
       "      <td>1.50</td>\n",
       "    </tr>\n",
       "    <tr>\n",
       "      <th>2</th>\n",
       "      <td>7.5</td>\n",
       "      <td>0.00</td>\n",
       "    </tr>\n",
       "    <tr>\n",
       "      <th>3</th>\n",
       "      <td>5.0</td>\n",
       "      <td>0.00</td>\n",
       "    </tr>\n",
       "    <tr>\n",
       "      <th>4</th>\n",
       "      <td>11.0</td>\n",
       "      <td>0.00</td>\n",
       "    </tr>\n",
       "  </tbody>\n",
       "</table>\n",
       "</div>"
      ],
      "text/plain": [
       "   fare_amount  tip_amount\n",
       "0         19.0        4.75\n",
       "1          7.5        1.50\n",
       "2          7.5        0.00\n",
       "3          5.0        0.00\n",
       "4         11.0        0.00"
      ]
     },
     "execution_count": 66,
     "metadata": {},
     "output_type": "execute_result"
    }
   ],
   "source": [
    "gt_2c.head()"
   ]
  },
  {
   "cell_type": "markdown",
   "metadata": {},
   "source": [
    "## plot the data"
   ]
  },
  {
   "cell_type": "code",
   "execution_count": 67,
   "metadata": {},
   "outputs": [
    {
     "data": {
      "text/plain": [
       "<matplotlib.axes._subplots.AxesSubplot at 0x7fc97ca2e4e0>"
      ]
     },
     "execution_count": 67,
     "metadata": {},
     "output_type": "execute_result"
    }
   ],
   "source": [
    "gt_2c.plot(x=\"fare_amount\", y=\"tip_amount\")"
   ]
  },
  {
   "cell_type": "code",
   "execution_count": 68,
   "metadata": {},
   "outputs": [],
   "source": [
    "# wont show anything if i do not use the magic command to show plots in the notebook \n",
    "#(or use pl.show to pop up a window, but for the homework plots have to be embedded)"
   ]
  },
  {
   "cell_type": "code",
   "execution_count": 69,
   "metadata": {},
   "outputs": [
    {
     "name": "stdout",
     "output_type": "stream",
     "text": [
      "Populating the interactive namespace from numpy and matplotlib\n"
     ]
    }
   ],
   "source": [
    "%pylab inline"
   ]
  },
  {
   "cell_type": "code",
   "execution_count": 70,
   "metadata": {},
   "outputs": [
    {
     "data": {
      "image/png": "[encoded data removed]",
      "text/plain": [
       "<matplotlib.figure.Figure at 0x7fc97c7ea048>"
      ]
     },
     "metadata": {},
     "output_type": "display_data"
    }
   ],
   "source": [
    "gt_2c.plot(x=\"fare_amount\", y=\"tip_amount\", kind='scatter');\n",
    "# every plot needs a caption that explains to the reader \n",
    "# 1) WHAT what the reader is loooking at and \n",
    "# 2) WHY why the reader is looking at it here in the analysis \n",
    "#      (in this case there is no why cause this plot is not part of an analysis)\n",
    "# 3) TAKE HOME what is the take home point for the plot in the analysis \n",
    "#      (also there is no take home point here cause we are not doind an analysis but you can point out interesting features)"
   ]
  },
  {
   "cell_type": "markdown",
   "metadata": {},
   "source": [
    "Figure 1: The amount of tips against the amount of total fare. The two variable curiously do not display a strong correlation. Also the most of the fare amount are under 100. The most of the tip amount are under 7.5."
   ]
  },
  {
   "cell_type": "markdown",
   "metadata": {},
   "source": [
    "# solution 2: Use API and download a json file"
   ]
  },
  {
   "cell_type": "markdown",
   "metadata": {},
   "source": [
    "from the dataset export link now go to -> SODA API and the the endpoint"
   ]
  },
  {
   "cell_type": "code",
   "execution_count": 71,
   "metadata": {},
   "outputs": [],
   "source": [
    "url = \"https://data.cityofnewyork.us/resource/utt9-dvgj.json\""
   ]
  },
  {
   "cell_type": "code",
   "execution_count": 72,
   "metadata": {},
   "outputs": [],
   "source": [
    "#use the appropriatepandas function to read in the json file\n",
    "df = pd.read_json(url)"
   ]
  },
  {
   "cell_type": "code",
   "execution_count": 73,
   "metadata": {},
   "outputs": [
    {
     "data": {
      "text/html": [
       "<div>\n",
       "<table border=\"1\" class=\"dataframe\">\n",
       "  <thead>\n",
       "    <tr style=\"text-align: right;\">\n",
       "      <th></th>\n",
       "      <th>dropoff_latitude</th>\n",
       "      <th>dropoff_longitude</th>\n",
       "      <th>extra</th>\n",
       "      <th>fare_amount</th>\n",
       "      <th>improvement_surcharge</th>\n",
       "      <th>lpep_dropoff_datetime</th>\n",
       "      <th>lpep_pickup_datetime</th>\n",
       "      <th>mta_tax</th>\n",
       "      <th>passenger_count</th>\n",
       "      <th>payment_type</th>\n",
       "      <th>pickup_latitude</th>\n",
       "      <th>pickup_longitude</th>\n",
       "      <th>ratecodeid</th>\n",
       "      <th>store_and_fwd_flag</th>\n",
       "      <th>tip_amount</th>\n",
       "      <th>tolls_amount</th>\n",
       "      <th>total_amount</th>\n",
       "      <th>trip_distance</th>\n",
       "      <th>trip_type</th>\n",
       "      <th>vendorid</th>\n",
       "    </tr>\n",
       "  </thead>\n",
       "  <tbody>\n",
       "    <tr>\n",
       "      <th>0</th>\n",
       "      <td>40.645348</td>\n",
       "      <td>-73.776329</td>\n",
       "      <td>0.0</td>\n",
       "      <td>19.0</td>\n",
       "      <td>0.3</td>\n",
       "      <td>2015-02-10T08:59:50.000</td>\n",
       "      <td>2015-02-10T08:46:15.000</td>\n",
       "      <td>0.5</td>\n",
       "      <td>1</td>\n",
       "      <td>1</td>\n",
       "      <td>40.693958</td>\n",
       "      <td>-73.828262</td>\n",
       "      <td>1</td>\n",
       "      <td>N</td>\n",
       "      <td>4.75</td>\n",
       "      <td>0.0</td>\n",
       "      <td>24.55</td>\n",
       "      <td>5.95</td>\n",
       "      <td>1</td>\n",
       "      <td>2</td>\n",
       "    </tr>\n",
       "    <tr>\n",
       "      <th>1</th>\n",
       "      <td>40.679829</td>\n",
       "      <td>-73.998367</td>\n",
       "      <td>0.0</td>\n",
       "      <td>7.5</td>\n",
       "      <td>0.3</td>\n",
       "      <td>2015-01-09T15:54:32.000</td>\n",
       "      <td>2015-01-09T15:45:22.000</td>\n",
       "      <td>0.5</td>\n",
       "      <td>3</td>\n",
       "      <td>1</td>\n",
       "      <td>40.669933</td>\n",
       "      <td>-73.985672</td>\n",
       "      <td>1</td>\n",
       "      <td>N</td>\n",
       "      <td>1.50</td>\n",
       "      <td>0.0</td>\n",
       "      <td>9.80</td>\n",
       "      <td>1.15</td>\n",
       "      <td>1</td>\n",
       "      <td>2</td>\n",
       "    </tr>\n",
       "    <tr>\n",
       "      <th>2</th>\n",
       "      <td>40.736202</td>\n",
       "      <td>-73.909294</td>\n",
       "      <td>0.5</td>\n",
       "      <td>7.5</td>\n",
       "      <td>0.3</td>\n",
       "      <td>2015-01-16T22:14:25.000</td>\n",
       "      <td>2015-01-16T22:07:38.000</td>\n",
       "      <td>0.5</td>\n",
       "      <td>1</td>\n",
       "      <td>2</td>\n",
       "      <td>40.746658</td>\n",
       "      <td>-73.892570</td>\n",
       "      <td>1</td>\n",
       "      <td>N</td>\n",
       "      <td>0.00</td>\n",
       "      <td>0.0</td>\n",
       "      <td>8.80</td>\n",
       "      <td>1.74</td>\n",
       "      <td>1</td>\n",
       "      <td>2</td>\n",
       "    </tr>\n",
       "  </tbody>\n",
       "</table>\n",
       "</div>"
      ],
      "text/plain": [
       "   dropoff_latitude  dropoff_longitude  extra  fare_amount  \\\n",
       "0         40.645348         -73.776329    0.0         19.0   \n",
       "1         40.679829         -73.998367    0.0          7.5   \n",
       "2         40.736202         -73.909294    0.5          7.5   \n",
       "\n",
       "   improvement_surcharge    lpep_dropoff_datetime     lpep_pickup_datetime  \\\n",
       "0                    0.3  2015-02-10T08:59:50.000  2015-02-10T08:46:15.000   \n",
       "1                    0.3  2015-01-09T15:54:32.000  2015-01-09T15:45:22.000   \n",
       "2                    0.3  2015-01-16T22:14:25.000  2015-01-16T22:07:38.000   \n",
       "\n",
       "   mta_tax  passenger_count  payment_type  pickup_latitude  pickup_longitude  \\\n",
       "0      0.5                1             1        40.693958        -73.828262   \n",
       "1      0.5                3             1        40.669933        -73.985672   \n",
       "2      0.5                1             2        40.746658        -73.892570   \n",
       "\n",
       "   ratecodeid store_and_fwd_flag  tip_amount  tolls_amount  total_amount  \\\n",
       "0           1                  N        4.75           0.0         24.55   \n",
       "1           1                  N        1.50           0.0          9.80   \n",
       "2           1                  N        0.00           0.0          8.80   \n",
       "\n",
       "   trip_distance  trip_type  vendorid  \n",
       "0           5.95          1         2  \n",
       "1           1.15          1         2  \n",
       "2           1.74          1         2  "
      ]
     },
     "execution_count": 73,
     "metadata": {},
     "output_type": "execute_result"
    }
   ],
   "source": [
    "# print it out\n",
    "df.head(3)"
   ]
  },
  {
   "cell_type": "code",
   "execution_count": 74,
   "metadata": {},
   "outputs": [],
   "source": [
    "#now select a date and 2 variables\n",
    "gt_3c = df[['lpep_dropoff_datetime', 'fare_amount', 'tip_amount']]"
   ]
  },
  {
   "cell_type": "markdown",
   "metadata": {},
   "source": [
    "for consistency with the data above, I will change the names of the columns (variables) to be the same as before. This way the plots will come out with the same labels and legends"
   ]
  },
  {
   "cell_type": "code",
   "execution_count": 75,
   "metadata": {},
   "outputs": [
    {
     "name": "stderr",
     "output_type": "stream",
     "text": [
      "/usr/local/Anaconda3-5.0.0-Linux-x86_64/envs/PUI2016_Python3/lib/python3.5/site-packages/pandas/core/frame.py:2754: SettingWithCopyWarning: \n",
      "A value is trying to be set on a copy of a slice from a DataFrame\n",
      "\n",
      "See the caveats in the documentation: http://pandas.pydata.org/pandas-docs/stable/indexing.html#indexing-view-versus-copy\n",
      "  **kwargs)\n"
     ]
    }
   ],
   "source": [
    "gt_3c.rename(columns = {'lpep_dropoff_datetime':'Lpep Dropoff Datetime', \n",
    "               'fare_amount':'Fare Amount', \n",
    "               'tip_amount': 'Tip Amount'}, inplace=True)"
   ]
  },
  {
   "cell_type": "code",
   "execution_count": 86,
   "metadata": {},
   "outputs": [
    {
     "data": {
      "image/png": "[encoded data removed]",
      "text/plain": [
       "<matplotlib.figure.Figure at 0x7fc97c151cc0>"
      ]
     },
     "metadata": {},
     "output_type": "display_data"
    }
   ],
   "source": [
    "#as a default this plot wont have a y label, but all plots must have axis labels!\n",
    "ax = gt_3c.plot(x='Lpep Dropoff Datetime', y='Tip Amount', title='Relationship Between Tip Amount and Dropoff  Datetime');\n",
    "ax.set_ylabel(\"Number\");"
   ]
  },
  {
   "cell_type": "markdown",
   "metadata": {},
   "source": [
    "i do not like the formatting of those dates so I will drom the timestamp overwriting the original column. \n",
    "for more info on baisc timestamp manipulation \n",
    "( no capation cause I am remaking this figure)\n"
   ]
  },
  {
   "cell_type": "code",
   "execution_count": 77,
   "metadata": {},
   "outputs": [
    {
     "name": "stderr",
     "output_type": "stream",
     "text": [
      "/usr/local/Anaconda3-5.0.0-Linux-x86_64/envs/PUI2016_Python3/lib/python3.5/site-packages/ipykernel/__main__.py:1: SettingWithCopyWarning: \n",
      "A value is trying to be set on a copy of a slice from a DataFrame.\n",
      "Try using .loc[row_indexer,col_indexer] = value instead\n",
      "\n",
      "See the caveats in the documentation: http://pandas.pydata.org/pandas-docs/stable/indexing.html#indexing-view-versus-copy\n",
      "  if __name__ == '__main__':\n"
     ]
    }
   ],
   "source": [
    "gt_3c[\"Lpep Dropoff Datetime\"] = gt_3c[\"Lpep Dropoff Datetime\"].apply(lambda x: pd.Timestamp(x))"
   ]
  },
  {
   "cell_type": "markdown",
   "metadata": {},
   "source": [
    "now that I am using timestamps (instead of strings as the data got read in form the json file) Pandas know to rotate the labels appropriately so I can drop rot=90"
   ]
  },
  {
   "cell_type": "code",
   "execution_count": 83,
   "metadata": {},
   "outputs": [
    {
     "data": {
      "image/png": "[encoded data removed]",
      "text/plain": [
       "<matplotlib.figure.Figure at 0x7fc96da2f400>"
      ]
     },
     "metadata": {},
     "output_type": "display_data"
    }
   ],
   "source": [
    "ax = gt_3c.plot(x='Lpep Dropoff Datetime', y='Tip Amount', title='Relationship Between Tip Amount and Dropoff  Datetime')\n",
    "ax.set_ylabel(\"Number\");"
   ]
  },
  {
   "cell_type": "markdown",
   "metadata": {},
   "source": [
    "Figure 2: The amount of tips as a function of time between 01/05/2015 and 02/23/2018. There is no single trend."
   ]
  },
  {
   "cell_type": "code",
   "execution_count": 85,
   "metadata": {},
   "outputs": [
    {
     "data": {
      "image/png": "[encoded data removed]",
      "text/plain": [
       "<matplotlib.figure.Figure at 0x7fc97c1c8358>"
      ]
     },
     "metadata": {},
     "output_type": "display_data"
    }
   ],
   "source": [
    "#plot the other columns\n",
    "ax_1 = gt_3c.plot(x='Lpep Dropoff Datetime', y='Fare Amount', title='Relationship Between Fare Amount and Dropoff  Datetime')\n",
    "ax_1.set_ylabel(\"Number\");"
   ]
  },
  {
   "cell_type": "markdown",
   "metadata": {},
   "source": [
    "Figure 3: The amount of tips as a function of time between 01/05/2015 and 02/23/2018.Just like Figure 2, there is no single trend as well."
   ]
  },
  {
   "cell_type": "code",
   "execution_count": null,
   "metadata": {},
   "outputs": [],
   "source": []
  }
 ],
 "metadata": {
  "kernelspec": {
   "display_name": "PUI2016_Python3",
   "language": "python",
   "name": "pui2016_python3"
  },
  "language_info": {
   "codemirror_mode": {
    "name": "ipython",
    "version": 3
   },
   "file_extension": ".py",
   "mimetype": "text/x-python",
   "name": "python",
   "nbconvert_exporter": "python",
   "pygments_lexer": "ipython3",
   "version": "3.5.4"
  }
 },
 "nbformat": 4,
 "nbformat_minor": 2
}
