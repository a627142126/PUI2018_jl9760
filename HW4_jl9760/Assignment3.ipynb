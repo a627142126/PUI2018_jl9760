{
 "cells": [
  {
   "cell_type": "markdown",
   "metadata": {},
   "source": [
    "# IDEA:"
   ]
  },
  {
   "cell_type": "markdown",
   "metadata": {},
   "source": [
    "## A implementation of an alternative bus route for bus line X8 improves circulation."
   ]
  },
  {
   "cell_type": "markdown",
   "metadata": {},
   "source": [
    "# NULL HYPOTHESIS:"
   ]
  },
  {
   "cell_type": "markdown",
   "metadata": {},
   "source": [
    "## A implementation of an alternative bus route for bus line X8 worsen or makes no differnece on circulation."
   ]
  },
  {
   "cell_type": "markdown",
   "metadata": {},
   "source": [
    "# Tnew >= Told"
   ]
  },
  {
   "cell_type": "markdown",
   "metadata": {},
   "source": [
    "# ALTERNATIVE HYPOTHESIS:"
   ]
  },
  {
   "cell_type": "markdown",
   "metadata": {},
   "source": [
    "## A implementation of an alternative bus route for bus line X8 improves circulation."
   ]
  },
  {
   "cell_type": "markdown",
   "metadata": {},
   "source": [
    "# Tnew < Told"
   ]
  },
  {
   "cell_type": "code",
   "execution_count": 16,
   "metadata": {},
   "outputs": [],
   "source": [
    "import os\n",
    "import numpy as np\n",
    "from numpy import loadtxt\n",
    "import pandas as pd"
   ]
  },
  {
   "cell_type": "code",
   "execution_count": 2,
   "metadata": {},
   "outputs": [
    {
     "name": "stdout",
     "output_type": "stream",
     "text": [
      "PUIdata /nfshome/jl9760/PUIdata\n"
     ]
    }
   ],
   "source": [
    "os.environ[\"PUIDATA\"] = \"%s/PUIdata\"%os.getenv(\"HOME\")\n",
    "\n",
    "print(\"PUIdata\", os.getenv(\"PUIDATA\"))"
   ]
  },
  {
   "cell_type": "code",
   "execution_count": 3,
   "metadata": {},
   "outputs": [
    {
     "name": "stdout",
     "output_type": "stream",
     "text": [
      "  % Total    % Received % Xferd  Average Speed   Time    Time     Time  Current\n",
      "                                 Dload  Upload   Total   Spent    Left  Speed\n",
      "100 61889    0 61889    0     0   221k      0 --:--:-- --:--:-- --:--:--  221k\n"
     ]
    }
   ],
   "source": [
    "!curl  https://github.com/fedhere/PUI2018_fb55/blob/master/Lab4_fb55/times.txt > times.txt"
   ]
  },
  {
   "cell_type": "code",
   "execution_count": 4,
   "metadata": {},
   "outputs": [],
   "source": [
    "!mv times.txt $PUIDATA"
   ]
  },
  {
   "cell_type": "code",
   "execution_count": 5,
   "metadata": {},
   "outputs": [
    {
     "name": "stdout",
     "output_type": "stream",
     "text": [
      "201401-citibike-tripdata.csv  201601-citibike-tripdata.zip  saes.csv\r\n",
      "201401-citibike-tripdata.zip  201701-citibike-tripdata.zip  service_request.csv\r\n",
      "201501-citibike-tripdata.csv  gt.csv\t\t\t    times.txt\r\n",
      "201501-citibike-tripdata.zip  jl9760.csv\r\n",
      "201601-citibike-tripdata.csv  pp.csv\r\n"
     ]
    }
   ],
   "source": [
    "!ls $PUIDATA"
   ]
  },
  {
   "cell_type": "code",
   "execution_count": 20,
   "metadata": {},
   "outputs": [
    {
     "name": "stdout",
     "output_type": "stream",
     "text": [
      "  % Total    % Received % Xferd  Average Speed   Time    Time     Time  Current\n",
      "                                 Dload  Upload   Total   Spent    Left  Speed\n",
      "100  1179  100  1179    0     0   7924      0 --:--:-- --:--:-- --:--:--  7966\n"
     ]
    }
   ],
   "source": [
    "!curl  https://raw.githubusercontent.com/fedhere/PUI2018_fb55/master/Lab4_fb55/times.txt > times_raw.txt"
   ]
  },
  {
   "cell_type": "code",
   "execution_count": 21,
   "metadata": {},
   "outputs": [],
   "source": [
    "!mv times_raw.txt $PUIDATA"
   ]
  },
  {
   "cell_type": "code",
   "execution_count": 22,
   "metadata": {},
   "outputs": [
    {
     "name": "stdout",
     "output_type": "stream",
     "text": [
      "201401-citibike-tripdata.csv  201601-citibike-tripdata.zip  saes.csv\r\n",
      "201401-citibike-tripdata.zip  201701-citibike-tripdata.zip  service_request.csv\r\n",
      "201501-citibike-tripdata.csv  gt.csv\t\t\t    times_raw.txt\r\n",
      "201501-citibike-tripdata.zip  jl9760.csv\t\t    times.txt\r\n",
      "201601-citibike-tripdata.csv  pp.csv\r\n"
     ]
    }
   ],
   "source": [
    "!ls $PUIDATA"
   ]
  },
  {
   "cell_type": "code",
   "execution_count": 28,
   "metadata": {},
   "outputs": [],
   "source": [
    "times = pd.read_table(os.getenv(\"PUIDATA\") + \"/\" + 'times_raw.txt', header=None)"
   ]
  },
  {
   "cell_type": "code",
   "execution_count": 29,
   "metadata": {},
   "outputs": [
    {
     "name": "stdout",
     "output_type": "stream",
     "text": [
      "            0\n",
      "0   31.622239\n",
      "1   32.821376\n",
      "2   30.229101\n",
      "3   31.413766\n",
      "4   39.010550\n",
      "5   34.822079\n",
      "6   39.871884\n",
      "7   39.579946\n",
      "8   31.026587\n",
      "9   27.662461\n",
      "10  18.875288\n",
      "11  46.231373\n",
      "12  30.015226\n",
      "13  47.600410\n",
      "14  16.527267\n",
      "15  42.446233\n",
      "16  33.625274\n",
      "17  42.284626\n",
      "18  46.205207\n",
      "19  30.875174\n",
      "20  32.948003\n",
      "21  26.176915\n",
      "22  31.256996\n",
      "23  35.336446\n",
      "24  35.640725\n",
      "25  40.322972\n",
      "26  38.043486\n",
      "27  29.457979\n",
      "28  23.916364\n",
      "29  34.564035\n",
      "..        ...\n",
      "70  31.481028\n",
      "71  37.149151\n",
      "72  38.991504\n",
      "73  20.530594\n",
      "74  27.804477\n",
      "75  38.699333\n",
      "76  30.022314\n",
      "77  38.648842\n",
      "78  26.406689\n",
      "79  32.102250\n",
      "80  28.315328\n",
      "81  43.261959\n",
      "82  40.360941\n",
      "83  37.302526\n",
      "84  31.451102\n",
      "85  38.795995\n",
      "86  36.925534\n",
      "87  32.371679\n",
      "88  23.258356\n",
      "89  26.426133\n",
      "90  48.749877\n",
      "91  31.425124\n",
      "92  46.806793\n",
      "93  30.597486\n",
      "94  20.792632\n",
      "95  26.197852\n",
      "96  42.727410\n",
      "97  33.731470\n",
      "98  37.238591\n",
      "99  36.339841\n",
      "\n",
      "[100 rows x 1 columns]\n"
     ]
    }
   ],
   "source": [
    "print(times)"
   ]
  },
  {
   "cell_type": "code",
   "execution_count": 30,
   "metadata": {},
   "outputs": [
    {
     "data": {
      "text/plain": [
       "0    34.466162\n",
       "dtype: float64"
      ]
     },
     "execution_count": 30,
     "metadata": {},
     "output_type": "execute_result"
    }
   ],
   "source": [
    "np.mean(times)"
   ]
  },
  {
   "cell_type": "markdown",
   "metadata": {},
   "source": [
    "# Told ~ N($\\mu$=36, $\\sigma$=6)"
   ]
  },
  {
   "cell_type": "markdown",
   "metadata": {},
   "source": [
    "# $\\overline{x}$ = mean(Tnew) = 34.5"
   ]
  },
  {
   "cell_type": "markdown",
   "metadata": {},
   "source": [
    "# N = 99"
   ]
  },
  {
   "cell_type": "code",
   "execution_count": 34,
   "metadata": {},
   "outputs": [],
   "source": [
    "z = (36 - 34.5)/(6/np.sqrt(99))"
   ]
  },
  {
   "cell_type": "code",
   "execution_count": 35,
   "metadata": {},
   "outputs": [
    {
     "data": {
      "text/plain": [
       "2.48746859276655"
      ]
     },
     "execution_count": 35,
     "metadata": {},
     "output_type": "execute_result"
    }
   ],
   "source": [
    "z"
   ]
  },
  {
   "cell_type": "markdown",
   "metadata": {},
   "source": [
    "# Since 2.48 >2, the result is farther than 2 sigma away from the old mean. The Null Hypothesis is rejected."
   ]
  },
  {
   "cell_type": "code",
   "execution_count": null,
   "metadata": {},
   "outputs": [],
   "source": []
  }
 ],
 "metadata": {
  "kernelspec": {
   "display_name": "myEnv",
   "language": "python",
   "name": "myenv"
  },
  "language_info": {
   "codemirror_mode": {
    "name": "ipython",
    "version": 3
   },
   "file_extension": ".py",
   "mimetype": "text/x-python",
   "name": "python",
   "nbconvert_exporter": "python",
   "pygments_lexer": "ipython3",
   "version": "3.5.6"
  }
 },
 "nbformat": 4,
 "nbformat_minor": 2
}
